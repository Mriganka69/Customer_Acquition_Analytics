{
 "cells": [
  {
   "cell_type": "markdown",
   "id": "71d1114d",
   "metadata": {},
   "source": [
    "# ⚙️ Phase 3: Feature Engineering"
   ]
  },
  {
   "cell_type": "code",
   "execution_count": 1,
   "id": "c6bee6c2",
   "metadata": {},
   "outputs": [
    {
     "name": "stdout",
     "output_type": "stream",
     "text": [
      "Channel Performance Metrics:\n",
      "  Marketing_Channel  Marketing_Spend  New_Customers         CAC  Channel_CAC  \\\n",
      "0   Email Marketing    384034.640089           3583  132.913758   107.182428   \n",
      "1        Online Ads    388747.870216           3896  122.135938    99.781281   \n",
      "2          Referral    391420.513166           3904  119.892174   100.261402   \n",
      "3      Social Media    383160.250918           3652  126.181913   104.917922   \n",
      "\n",
      "   Performance_Score  \n",
      "0               0.00  \n",
      "1               0.07  \n",
      "2               0.06  \n",
      "3               0.02  \n"
     ]
    }
   ],
   "source": [
    "# Import libraries\n",
    "import pandas as pd\n",
    "\n",
    "# Load dataset\n",
    "df = pd.read_csv(\"customer_acquisition_cost_dataset.csv\")\n",
    "\n",
    "# 1. Calculate Customer Acquisition Cost (CAC)\n",
    "# Avoid division by zero\n",
    "df['CAC'] = df.apply(lambda row: row['Marketing_Spend'] / row['New_Customers'] \n",
    "                     if row['New_Customers'] > 0 else 0, axis=1)\n",
    "\n",
    "# 2. Average CAC per marketing channel\n",
    "channel_metrics = df.groupby('Marketing_Channel').agg({\n",
    "    'Marketing_Spend': 'sum',\n",
    "    'New_Customers': 'sum',\n",
    "    'CAC': 'mean'\n",
    "}).reset_index()\n",
    "\n",
    "# Recalculate CAC per channel properly (total spend / total new customers)\n",
    "channel_metrics['Channel_CAC'] = channel_metrics['Marketing_Spend'] / channel_metrics['New_Customers']\n",
    "\n",
    "# 3. Add a performance score (lower CAC = higher score)\n",
    "max_cac = channel_metrics['Channel_CAC'].max()\n",
    "channel_metrics['Performance_Score'] = (1 - (channel_metrics['Channel_CAC'] / max_cac)).round(2)\n",
    "\n",
    "# Display the updated metrics\n",
    "print(\"Channel Performance Metrics:\")\n",
    "print(channel_metrics)\n",
    "\n",
    "# 4. Save the updated dataset with CAC if needed\n",
    "df.to_csv(\"updated_customer_data_with_cac.csv\", index=False)"
   ]
  },
  {
   "cell_type": "code",
   "execution_count": null,
   "id": "d2195e53",
   "metadata": {},
   "outputs": [],
   "source": []
  }
 ],
 "metadata": {
  "kernelspec": {
   "display_name": "Python 3 (ipykernel)",
   "language": "python",
   "name": "python3"
  },
  "language_info": {
   "codemirror_mode": {
    "name": "ipython",
    "version": 3
   },
   "file_extension": ".py",
   "mimetype": "text/x-python",
   "name": "python",
   "nbconvert_exporter": "python",
   "pygments_lexer": "ipython3",
   "version": "3.11.4"
  }
 },
 "nbformat": 4,
 "nbformat_minor": 5
}
