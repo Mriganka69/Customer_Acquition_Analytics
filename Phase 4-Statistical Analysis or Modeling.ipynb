{
 "cells": [
  {
   "cell_type": "markdown",
   "id": "95219064",
   "metadata": {},
   "source": [
    "# Phase 4: Statistical Analysis or Modeling"
   ]
  },
  {
   "cell_type": "code",
   "execution_count": 1,
   "id": "c0341aa6",
   "metadata": {},
   "outputs": [
    {
     "name": "stdout",
     "output_type": "stream",
     "text": [
      "\n",
      "Model Evaluation:\n",
      "Mean Squared Error (MSE): 145.40\n",
      "R-squared (R²): -0.03\n"
     ]
    }
   ],
   "source": [
    "# Regression Modeling Code (Linear Regression)\n",
    "# Import libraries\n",
    "import pandas as pd\n",
    "from sklearn.model_selection import train_test_split\n",
    "from sklearn.linear_model import LinearRegression\n",
    "from sklearn.preprocessing import OneHotEncoder\n",
    "from sklearn.compose import ColumnTransformer\n",
    "from sklearn.pipeline import Pipeline\n",
    "from sklearn.metrics import mean_squared_error, r2_score\n",
    "\n",
    "# Load dataset\n",
    "df = pd.read_csv(\"updated_customer_data_with_cac.csv\")\n",
    "\n",
    "# 1. Features & Target\n",
    "X = df[['Marketing_Spend', 'Marketing_Channel']]\n",
    "y = df['New_Customers']\n",
    "\n",
    "# 2. Preprocessing: One-hot encode categorical feature\n",
    "preprocessor = ColumnTransformer(\n",
    "    transformers=[\n",
    "        ('cat', OneHotEncoder(drop='first'), ['Marketing_Channel'])\n",
    "    ],\n",
    "    remainder='passthrough'  # Keep other features as-is\n",
    ")\n",
    "\n",
    "# 3. Create pipeline with Linear Regression\n",
    "pipeline = Pipeline(steps=[\n",
    "    ('preprocessor', preprocessor),\n",
    "    ('regressor', LinearRegression())\n",
    "])\n",
    "\n",
    "# 4. Train-test split\n",
    "X_train, X_test, y_train, y_test = train_test_split(X, y, test_size=0.2, random_state=42)\n",
    "\n",
    "# 5. Train the model\n",
    "pipeline.fit(X_train, y_train)\n",
    "\n",
    "# 6. Make predictions\n",
    "y_pred = pipeline.predict(X_test)\n",
    "\n",
    "# 7. Evaluate the model\n",
    "mse = mean_squared_error(y_test, y_pred)\n",
    "r2 = r2_score(y_test, y_pred)\n",
    "\n",
    "print(f\"\\nModel Evaluation:\")\n",
    "print(f\"Mean Squared Error (MSE): {mse:.2f}\")\n",
    "print(f\"R-squared (R²): {r2:.2f}\")\n"
   ]
  },
  {
   "cell_type": "code",
   "execution_count": null,
   "id": "c5906950",
   "metadata": {},
   "outputs": [],
   "source": []
  }
 ],
 "metadata": {
  "kernelspec": {
   "display_name": "Python 3 (ipykernel)",
   "language": "python",
   "name": "python3"
  },
  "language_info": {
   "codemirror_mode": {
    "name": "ipython",
    "version": 3
   },
   "file_extension": ".py",
   "mimetype": "text/x-python",
   "name": "python",
   "nbconvert_exporter": "python",
   "pygments_lexer": "ipython3",
   "version": "3.11.4"
  }
 },
 "nbformat": 4,
 "nbformat_minor": 5
}
